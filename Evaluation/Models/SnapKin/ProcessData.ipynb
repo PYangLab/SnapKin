{
 "cells": [
  {
   "cell_type": "code",
   "execution_count": 2,
   "metadata": {},
   "outputs": [],
   "source": [
    "import numpy as np\n",
    "import pandas as pd\n",
    "import pickle\n",
    "from sklearn.metrics import roc_curve, roc_auc_score\n",
    "from Helpers import *\n",
    "from functools import reduce\n",
    "from glob import glob\n",
    "from tqdm import tqdm"
   ]
  },
  {
   "cell_type": "code",
   "execution_count": 3,
   "metadata": {},
   "outputs": [],
   "source": [
    "data_directories = ['./Multi-Populated-Unfiltered/', './Multi-Populated-Unfiltered-NoPseudo/'] \n",
    "data_directories = ['./Data-50/', './Data-50-NoPseudo/'] \n",
    "model_type = 'SnapKin'"
   ]
  },
  {
   "cell_type": "code",
   "execution_count": 4,
   "metadata": {},
   "outputs": [
    {
     "name": "stderr",
     "output_type": "stream",
     "text": [
      "  0%|          | 0/2 [00:00<?, ?it/s]\n",
      "  0%|          | 0/16 [00:00<?, ?it/s]\u001b[A\n",
      "  6%|▋         | 1/16 [00:00<00:03,  4.35it/s]\u001b[A\n",
      " 12%|█▎        | 2/16 [00:00<00:03,  4.55it/s]\u001b[A\n",
      " 19%|█▉        | 3/16 [00:00<00:02,  4.73it/s]\u001b[A\n",
      " 25%|██▌       | 4/16 [00:00<00:02,  4.85it/s]\u001b[A\n",
      " 31%|███▏      | 5/16 [00:01<00:02,  4.94it/s]\u001b[A\n",
      " 38%|███▊      | 6/16 [00:01<00:02,  4.97it/s]\u001b[A\n",
      " 44%|████▍     | 7/16 [00:01<00:01,  5.07it/s]\u001b[A\n",
      " 50%|█████     | 8/16 [00:01<00:01,  5.14it/s]\u001b[A\n",
      " 56%|█████▋    | 9/16 [00:01<00:01,  5.14it/s]\u001b[A\n",
      " 62%|██████▎   | 10/16 [00:01<00:01,  5.18it/s]\u001b[A\n",
      " 69%|██████▉   | 11/16 [00:02<00:00,  5.17it/s]\u001b[A\n",
      " 75%|███████▌  | 12/16 [00:02<00:00,  5.19it/s]\u001b[A\n",
      " 81%|████████▏ | 13/16 [00:02<00:00,  5.22it/s]\u001b[A\n",
      " 88%|████████▊ | 14/16 [00:02<00:00,  5.23it/s]\u001b[A\n",
      " 94%|█████████▍| 15/16 [00:02<00:00,  5.25it/s]\u001b[A\n",
      "100%|██████████| 16/16 [00:03<00:00,  5.15it/s]\u001b[A\n",
      " 50%|█████     | 1/2 [00:03<00:03,  3.29s/it]\n",
      "  0%|          | 0/16 [00:00<?, ?it/s]\u001b[A\n",
      "  6%|▋         | 1/16 [00:00<00:02,  5.15it/s]\u001b[A"
     ]
    },
    {
     "name": "stdout",
     "output_type": "stream",
     "text": [
      "Saved ./Data-50/\n"
     ]
    },
    {
     "name": "stderr",
     "output_type": "stream",
     "text": [
      "\n",
      " 12%|█▎        | 2/16 [00:00<00:02,  5.13it/s]\u001b[A\n",
      " 19%|█▉        | 3/16 [00:00<00:02,  4.88it/s]\u001b[A\n",
      " 25%|██▌       | 4/16 [00:00<00:02,  4.97it/s]\u001b[A\n",
      " 31%|███▏      | 5/16 [00:01<00:02,  5.03it/s]\u001b[A\n",
      " 38%|███▊      | 6/16 [00:01<00:01,  5.07it/s]\u001b[A\n",
      " 44%|████▍     | 7/16 [00:01<00:01,  5.07it/s]\u001b[A\n",
      " 50%|█████     | 8/16 [00:01<00:01,  5.13it/s]\u001b[A\n",
      " 56%|█████▋    | 9/16 [00:01<00:01,  5.13it/s]\u001b[A\n",
      " 62%|██████▎   | 10/16 [00:01<00:01,  5.15it/s]\u001b[A\n",
      " 69%|██████▉   | 11/16 [00:02<00:00,  5.14it/s]\u001b[A\n",
      " 75%|███████▌  | 12/16 [00:02<00:00,  5.15it/s]\u001b[A\n",
      " 81%|████████▏ | 13/16 [00:02<00:00,  5.14it/s]\u001b[A\n",
      " 88%|████████▊ | 14/16 [00:02<00:00,  5.18it/s]\u001b[A\n",
      " 94%|█████████▍| 15/16 [00:02<00:00,  5.22it/s]\u001b[A\n",
      "100%|██████████| 16/16 [00:03<00:00,  5.11it/s]\u001b[A\n",
      "100%|██████████| 2/2 [00:06<00:00,  3.30s/it]"
     ]
    },
    {
     "name": "stdout",
     "output_type": "stream",
     "text": [
      "Saved ./Data-50-NoPseudo/\n"
     ]
    },
    {
     "name": "stderr",
     "output_type": "stream",
     "text": [
      "\n"
     ]
    }
   ],
   "source": [
    "for data_dir in tqdm(data_directories):\n",
    "    save_preds = '{}{}-preds.csv'.format(data_dir, model_type)\n",
    "\n",
    "    df_predictions = None\n",
    "    file_pointers = glob('{}*.pickle'.format(data_dir))\n",
    "    \n",
    "    for data_fp in tqdm(file_pointers):\n",
    "        model_nam, dataset, clss = data_fp.split('/')[-1].split('_')\n",
    "        clss = clss.split('.')[0]\n",
    "\n",
    "        with open(data_fp, 'rb') as fp:\n",
    "            raw_data = pickle.load(fp)\n",
    "        predict_pos, predict_neg, fold_preds, fold_labs, lr, batch_size  = raw_data.data\n",
    "\n",
    "        ## Store Fold Predictions\n",
    "        tmp_predictions = None\n",
    "        for i, fold_set in enumerate(fold_preds):\n",
    "            for j, (pred_pos, _) in enumerate(fold_set):\n",
    "                if pred_pos:\n",
    "                    predictions, labels = fold_labs[i][j]\n",
    "                    tmp_predictions = pd.concat((pd.DataFrame({'Score': predictions, 'Label': labels, 'Fold_Set': i, 'Fold': j}), \n",
    "                                                              tmp_predictions))\n",
    "        tmp_predictions['Model'] = model_nam\n",
    "        tmp_predictions['Class'] = clss\n",
    "        tmp_predictions['Dataset'] = dataset\n",
    "        df_predictions = pd.concat((df_predictions, tmp_predictions))\n",
    "        \n",
    "    df_predictions.to_csv(save_preds, index=False)\n",
    "    print('Saved {}'.format(data_dir))"
   ]
  },
  {
   "cell_type": "code",
   "execution_count": null,
   "metadata": {},
   "outputs": [],
   "source": []
  },
  {
   "cell_type": "code",
   "execution_count": null,
   "metadata": {},
   "outputs": [],
   "source": []
  }
 ],
 "metadata": {
  "kernelspec": {
   "display_name": "Python 3",
   "language": "python",
   "name": "python3"
  },
  "language_info": {
   "codemirror_mode": {
    "name": "ipython",
    "version": 3
   },
   "file_extension": ".py",
   "mimetype": "text/x-python",
   "name": "python",
   "nbconvert_exporter": "python",
   "pygments_lexer": "ipython3",
   "version": "3.8.3"
  }
 },
 "nbformat": 4,
 "nbformat_minor": 4
}
