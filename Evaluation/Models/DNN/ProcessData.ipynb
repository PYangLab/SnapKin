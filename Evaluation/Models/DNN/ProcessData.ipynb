{
 "cells": [
  {
   "cell_type": "code",
   "execution_count": 1,
   "metadata": {},
   "outputs": [],
   "source": [
    "import numpy as np\n",
    "import pandas as pd\n",
    "import pickle\n",
    "from sklearn.metrics import roc_curve, roc_auc_score\n",
    "from Helpers import *\n",
    "from functools import reduce\n",
    "from glob import glob\n",
    "from tqdm import tqdm"
   ]
  },
  {
   "cell_type": "code",
   "execution_count": 2,
   "metadata": {},
   "outputs": [],
   "source": [
    "data_directories = ['./Multi-Populated-Unfiltered/', './Multi-Populated-Unfiltered-NoPseudo/', \n",
    "                    './Multi-Populated-Unfiltered-Ensemble/', './Multi-Populated-Unfiltered-NoPseudo-Ensemble/'] \n",
    "data_directories = ['./Data-50/', './Data-50-NoPseudo/',\n",
    "                   './Data-50-Ensemble/', './Data-50-NoPseudo-Ensemble/'] \n",
    "model_type = 'DNN'"
   ]
  },
  {
   "cell_type": "code",
   "execution_count": 3,
   "metadata": {},
   "outputs": [
    {
     "name": "stderr",
     "output_type": "stream",
     "text": [
      "  0%|          | 0/4 [00:00<?, ?it/s]\n",
      "  0%|          | 0/16 [00:00<?, ?it/s]\u001b[A\n",
      "  6%|▋         | 1/16 [00:00<00:03,  3.84it/s]\u001b[A\n",
      " 12%|█▎        | 2/16 [00:00<00:03,  4.10it/s]\u001b[A\n",
      " 19%|█▉        | 3/16 [00:00<00:03,  4.33it/s]\u001b[A\n",
      " 25%|██▌       | 4/16 [00:00<00:02,  4.49it/s]\u001b[A\n",
      " 31%|███▏      | 5/16 [00:01<00:02,  4.66it/s]\u001b[A\n",
      " 38%|███▊      | 6/16 [00:01<00:02,  4.79it/s]\u001b[A\n",
      " 44%|████▍     | 7/16 [00:01<00:01,  4.72it/s]\u001b[A\n",
      " 50%|█████     | 8/16 [00:01<00:01,  4.84it/s]\u001b[A\n",
      " 56%|█████▋    | 9/16 [00:01<00:01,  4.93it/s]\u001b[A\n",
      " 62%|██████▎   | 10/16 [00:02<00:01,  5.03it/s]\u001b[A\n",
      " 69%|██████▉   | 11/16 [00:02<00:00,  5.02it/s]\u001b[A\n",
      " 75%|███████▌  | 12/16 [00:02<00:00,  5.02it/s]\u001b[A\n",
      " 81%|████████▏ | 13/16 [00:02<00:00,  5.07it/s]\u001b[A\n",
      " 88%|████████▊ | 14/16 [00:02<00:00,  5.12it/s]\u001b[A\n",
      " 94%|█████████▍| 15/16 [00:03<00:00,  5.13it/s]\u001b[A\n",
      "100%|██████████| 16/16 [00:03<00:00,  4.95it/s]\u001b[A\n",
      " 25%|██▌       | 1/4 [00:03<00:10,  3.41s/it]\n",
      "  0%|          | 0/16 [00:00<?, ?it/s]\u001b[A\n",
      "  6%|▋         | 1/16 [00:00<00:02,  5.18it/s]\u001b[A"
     ]
    },
    {
     "name": "stdout",
     "output_type": "stream",
     "text": [
      "Saved ./Data-50/\n"
     ]
    },
    {
     "name": "stderr",
     "output_type": "stream",
     "text": [
      "\n",
      " 12%|█▎        | 2/16 [00:00<00:02,  5.16it/s]\u001b[A\n",
      " 19%|█▉        | 3/16 [00:00<00:02,  4.80it/s]\u001b[A\n",
      " 25%|██▌       | 4/16 [00:00<00:02,  4.83it/s]\u001b[A\n",
      " 31%|███▏      | 5/16 [00:01<00:02,  4.70it/s]\u001b[A\n",
      " 38%|███▊      | 6/16 [00:01<00:02,  4.60it/s]\u001b[A\n",
      " 44%|████▍     | 7/16 [00:01<00:01,  4.59it/s]\u001b[A\n",
      " 50%|█████     | 8/16 [00:01<00:01,  4.54it/s]\u001b[A\n",
      " 56%|█████▋    | 9/16 [00:01<00:01,  4.51it/s]\u001b[A\n",
      " 62%|██████▎   | 10/16 [00:02<00:01,  4.69it/s]\u001b[A\n",
      " 69%|██████▉   | 11/16 [00:02<00:01,  4.83it/s]\u001b[A\n",
      " 75%|███████▌  | 12/16 [00:02<00:00,  4.78it/s]\u001b[A\n",
      " 81%|████████▏ | 13/16 [00:02<00:00,  4.67it/s]\u001b[A\n",
      " 88%|████████▊ | 14/16 [00:02<00:00,  4.74it/s]\u001b[A\n",
      " 94%|█████████▍| 15/16 [00:03<00:00,  4.85it/s]\u001b[A\n",
      "100%|██████████| 16/16 [00:03<00:00,  4.74it/s]\u001b[A\n",
      " 50%|█████     | 2/4 [00:06<00:06,  3.45s/it]\n",
      "  0%|          | 0/16 [00:00<?, ?it/s]\u001b[A\n",
      "  6%|▋         | 1/16 [00:00<00:02,  5.13it/s]\u001b[A"
     ]
    },
    {
     "name": "stdout",
     "output_type": "stream",
     "text": [
      "Saved ./Data-50-NoPseudo/\n"
     ]
    },
    {
     "name": "stderr",
     "output_type": "stream",
     "text": [
      "\n",
      " 12%|█▎        | 2/16 [00:00<00:02,  5.11it/s]\u001b[A\n",
      " 19%|█▉        | 3/16 [00:00<00:02,  4.99it/s]\u001b[A\n",
      " 25%|██▌       | 4/16 [00:00<00:02,  5.00it/s]\u001b[A\n",
      " 31%|███▏      | 5/16 [00:00<00:02,  5.06it/s]\u001b[A\n",
      " 38%|███▊      | 6/16 [00:01<00:01,  5.12it/s]\u001b[A\n",
      " 44%|████▍     | 7/16 [00:01<00:01,  4.89it/s]\u001b[A\n",
      " 50%|█████     | 8/16 [00:01<00:01,  4.71it/s]\u001b[A\n",
      " 56%|█████▋    | 9/16 [00:01<00:01,  4.86it/s]\u001b[A\n",
      " 62%|██████▎   | 10/16 [00:02<00:01,  4.97it/s]\u001b[A\n",
      " 69%|██████▉   | 11/16 [00:02<00:00,  5.06it/s]\u001b[A\n",
      " 75%|███████▌  | 12/16 [00:02<00:00,  4.97it/s]\u001b[A\n",
      " 81%|████████▏ | 13/16 [00:02<00:00,  5.02it/s]\u001b[A\n",
      " 88%|████████▊ | 14/16 [00:02<00:00,  5.08it/s]\u001b[A\n",
      " 94%|█████████▍| 15/16 [00:03<00:00,  5.00it/s]\u001b[A\n",
      "100%|██████████| 16/16 [00:03<00:00,  4.95it/s]\u001b[A\n",
      " 75%|███████▌  | 3/4 [00:10<00:03,  3.44s/it]\n",
      "  0%|          | 0/16 [00:00<?, ?it/s]\u001b[A\n",
      "  6%|▋         | 1/16 [00:00<00:02,  5.21it/s]\u001b[A"
     ]
    },
    {
     "name": "stdout",
     "output_type": "stream",
     "text": [
      "Saved ./Data-50-Ensemble/\n"
     ]
    },
    {
     "name": "stderr",
     "output_type": "stream",
     "text": [
      "\n",
      " 12%|█▎        | 2/16 [00:00<00:02,  5.08it/s]\u001b[A\n",
      " 19%|█▉        | 3/16 [00:00<00:02,  4.98it/s]\u001b[A\n",
      " 25%|██▌       | 4/16 [00:00<00:02,  4.91it/s]\u001b[A\n",
      " 31%|███▏      | 5/16 [00:01<00:02,  4.60it/s]\u001b[A\n",
      " 38%|███▊      | 6/16 [00:01<00:02,  4.74it/s]\u001b[A\n",
      " 44%|████▍     | 7/16 [00:01<00:01,  4.84it/s]\u001b[A\n",
      " 50%|█████     | 8/16 [00:01<00:01,  4.91it/s]\u001b[A\n",
      " 56%|█████▋    | 9/16 [00:01<00:01,  5.01it/s]\u001b[A\n",
      " 62%|██████▎   | 10/16 [00:02<00:01,  5.05it/s]\u001b[A\n",
      " 69%|██████▉   | 11/16 [00:02<00:00,  5.06it/s]\u001b[A\n",
      " 75%|███████▌  | 12/16 [00:02<00:00,  5.04it/s]\u001b[A\n",
      " 81%|████████▏ | 13/16 [00:02<00:00,  4.98it/s]\u001b[A\n",
      " 88%|████████▊ | 14/16 [00:02<00:00,  4.97it/s]\u001b[A\n",
      " 94%|█████████▍| 15/16 [00:03<00:00,  4.99it/s]\u001b[A\n",
      "100%|██████████| 16/16 [00:03<00:00,  4.86it/s]\u001b[A\n",
      "100%|██████████| 4/4 [00:13<00:00,  3.47s/it]"
     ]
    },
    {
     "name": "stdout",
     "output_type": "stream",
     "text": [
      "Saved ./Data-50-NoPseudo-Ensemble/\n"
     ]
    },
    {
     "name": "stderr",
     "output_type": "stream",
     "text": [
      "\n"
     ]
    }
   ],
   "source": [
    "for data_dir in tqdm(data_directories):\n",
    "    save_preds = '{}{}-preds.csv'.format(data_dir, model_type)\n",
    "\n",
    "    df_predictions = None\n",
    "    file_pointers = glob('{}*.pickle'.format(data_dir))\n",
    "    \n",
    "    for data_fp in tqdm(file_pointers):\n",
    "        model_nam, dataset, clss = data_fp.split('/')[-1].split('_')\n",
    "        clss = clss.split('.')[0]\n",
    "\n",
    "        with open(data_fp, 'rb') as fp:\n",
    "            raw_data = pickle.load(fp)\n",
    "        predict_pos, predict_neg, fold_preds, fold_labs, lr, batch_size  = raw_data.data\n",
    "\n",
    "        ## Store Fold Predictions\n",
    "        tmp_predictions = None\n",
    "        for i, fold_set in enumerate(fold_preds):\n",
    "            for j, (pred_pos, _) in enumerate(fold_set):\n",
    "                if pred_pos:\n",
    "                    predictions, labels = fold_labs[i][j]\n",
    "                    tmp_predictions = pd.concat((pd.DataFrame({'Score': predictions, 'Label': labels, 'Fold_Set': i, 'Fold': j}), \n",
    "                                                              tmp_predictions))\n",
    "        tmp_predictions['Model'] = model_nam\n",
    "        tmp_predictions['Class'] = clss\n",
    "        tmp_predictions['Dataset'] = dataset\n",
    "        df_predictions = pd.concat((df_predictions, tmp_predictions))\n",
    "        \n",
    "    df_predictions.to_csv(save_preds, index=False)\n",
    "    print('Saved {}'.format(data_dir))"
   ]
  },
  {
   "cell_type": "code",
   "execution_count": null,
   "metadata": {},
   "outputs": [],
   "source": []
  }
 ],
 "metadata": {
  "kernelspec": {
   "display_name": "Python 3",
   "language": "python",
   "name": "python3"
  },
  "language_info": {
   "codemirror_mode": {
    "name": "ipython",
    "version": 3
   },
   "file_extension": ".py",
   "mimetype": "text/x-python",
   "name": "python",
   "nbconvert_exporter": "python",
   "pygments_lexer": "ipython3",
   "version": "3.8.3"
  }
 },
 "nbformat": 4,
 "nbformat_minor": 4
}
